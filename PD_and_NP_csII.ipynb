{
  "nbformat": 4,
  "nbformat_minor": 0,
  "metadata": {
    "colab": {
      "name": "PD and NP csII.ipynb",
      "provenance": [],
      "collapsed_sections": []
    },
    "kernelspec": {
      "name": "python3",
      "display_name": "Python 3"
    },
    "language_info": {
      "name": "python"
    }
  },
  "cells": [
    {
      "cell_type": "code",
      "execution_count": null,
      "metadata": {
        "colab": {
          "base_uri": "https://localhost:8080/"
        },
        "id": "q_UgKID_g4OZ",
        "outputId": "2423c52c-eaed-4e80-c0d9-cda32345ceed"
      },
      "outputs": [
        {
          "output_type": "stream",
          "name": "stdout",
          "text": [
            "   Score  Age        Subject Sex  ID\n",
            "0   82.0   18  Data Structue   M   1\n",
            "1   79.0   19  Data Structue   M   2\n",
            "2   39.0   19  Data Structue   M   3\n",
            "3   76.0   18  Data Structue   M   4\n",
            "4   76.0   18  Data Structue   F   5\n"
          ]
        }
      ],
      "source": [
        "import pandas as pd\n",
        "df_ds=pd.read_csv(\"/content/DSScoreTerm1.csv\")\n",
        "df_ma=pd.read_csv(\"/content/MathScoreTerm1.csv\")\n",
        "df_phy=pd.read_csv(\"/content/PhysicsScoreTerm1.csv\")\n",
        "#print(df_ds.head(5))\n",
        "df_ds.drop([\"Name\",\"Ethinicity\"],axis=1,inplace=True)\n",
        "print(df_ds.head())\n",
        "\n"
      ]
    },
    {
      "cell_type": "code",
      "source": [
        "2 \n",
        "df_ma.drop([\"Name\",\"Ethinicity\"],axis=1,inplace=True)\n",
        "df_phy.drop([\"Name\",\"Ethinicity\"],axis=1,inplace=True)\n",
        "print(df_ma.head())\n",
        "print(df_phy.head())"
      ],
      "metadata": {
        "colab": {
          "base_uri": "https://localhost:8080/"
        },
        "id": "jZAgxtN5HBvv",
        "outputId": "138ee2e8-6bb7-4b6d-d9dc-42655ca6ad86"
      },
      "execution_count": null,
      "outputs": [
        {
          "output_type": "stream",
          "name": "stdout",
          "text": [
            "   Score  Age Subject Sex  ID\n",
            "0   88.0   18   Maths   M   1\n",
            "1   85.0   19   Maths   M   2\n",
            "2   45.0   19   Maths   M   3\n",
            "3   82.0   18   Maths   M   4\n",
            "4   82.0   18   Maths   F   5\n",
            "   Score  Age  Subject Sex  ID\n",
            "0   84.0   18  Physics   M   1\n",
            "1   81.0   19  Physics   M   2\n",
            "2   41.0   19  Physics   M   3\n",
            "3   78.0   18  Physics   M   4\n",
            "4   78.0   18  Physics   F   5\n"
          ]
        }
      ]
    },
    {
      "cell_type": "code",
      "source": [
        "3\n",
        "df_ds=df_ds.fillna(0)\n",
        "df_ma=df_ma.fillna(0)\n",
        "df_phy=df_phy.fillna(0)"
      ],
      "metadata": {
        "id": "GlyTVc_Bpgg6"
      },
      "execution_count": null,
      "outputs": []
    },
    {
      "cell_type": "code",
      "source": [
        "4\n",
        "frames=[df_ds,df_ma,df_phy]\n",
        "result=pd.concat(frames)\n",
        "print(result)\n"
      ],
      "metadata": {
        "colab": {
          "base_uri": "https://localhost:8080/"
        },
        "id": "NTlJble1sDrS",
        "outputId": "e9579377-4bb5-48e7-e715-064ab8864770"
      },
      "execution_count": null,
      "outputs": [
        {
          "output_type": "stream",
          "name": "stdout",
          "text": [
            "     Score  Age        Subject Sex   ID\n",
            "0     82.0   18  Data Structue   M    1\n",
            "1     79.0   19  Data Structue   M    2\n",
            "2     39.0   19  Data Structue   M    3\n",
            "3     76.0   18  Data Structue   M    4\n",
            "4     76.0   18  Data Structue   F    5\n",
            "..     ...  ...            ...  ..  ...\n",
            "594   41.0   19        Physics   F  595\n",
            "595   71.0   18        Physics   M  596\n",
            "596   49.0   20        Physics   M  597\n",
            "597   71.0   20        Physics   M  598\n",
            "598   69.0   19        Physics   M  599\n",
            "\n",
            "[1797 rows x 5 columns]\n",
            "     Score  Age        Subject  Sex   ID\n",
            "0     82.0   18  Data Structue    1    1\n",
            "1     79.0   19  Data Structue    1    2\n",
            "2     39.0   19  Data Structue    1    3\n",
            "3     76.0   18  Data Structue    1    4\n",
            "4     76.0   18  Data Structue    2    5\n",
            "..     ...  ...            ...  ...  ...\n",
            "594   41.0   19        Physics    2  595\n",
            "595   71.0   18        Physics    1  596\n",
            "596   49.0   20        Physics    1  597\n",
            "597   71.0   20        Physics    1  598\n",
            "598   69.0   19        Physics    1  599\n",
            "\n",
            "[1797 rows x 5 columns]\n"
          ]
        }
      ]
    },
    {
      "cell_type": "code",
      "source": [
        "5\n",
        "result['Sex']=result['Sex'].replace(['M','F'],[1,2])\n",
        "\n",
        "print(result)"
      ],
      "metadata": {
        "id": "LcUDjbUyHPop"
      },
      "execution_count": null,
      "outputs": []
    },
    {
      "cell_type": "code",
      "source": [
        "6\n",
        "result.to_csv('ScoreFinal.csv')"
      ],
      "metadata": {
        "id": "GKLEoUqVGreu"
      },
      "execution_count": null,
      "outputs": []
    }
  ]
}