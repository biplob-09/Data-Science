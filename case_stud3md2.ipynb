{
  "nbformat": 4,
  "nbformat_minor": 0,
  "metadata": {
    "colab": {
      "name": "case_stud3md2.ipynb",
      "provenance": []
    },
    "kernelspec": {
      "name": "python3",
      "display_name": "Python 3"
    },
    "language_info": {
      "name": "python"
    }
  },
  "cells": [
    {
      "cell_type": "code",
      "execution_count": 19,
      "metadata": {
        "colab": {
          "base_uri": "https://localhost:8080/"
        },
        "id": "BFCP0Ou-57k-",
        "outputId": "c2eee71a-7df3-4325-ff78-ed016a56e9bd"
      },
      "outputs": [
        {
          "output_type": "stream",
          "name": "stdout",
          "text": [
            "Enter the reference ID:\n",
            "abcdef12\n",
            "Unique id is valid\n",
            "The encrypted RefID is : b'YWJjZGVmMTI='\n",
            "Do You want to decode the RefID :(y/n\n",
            "y\n",
            "b'abcdef12'\n"
          ]
        }
      ],
      "source": [
        "# 1.Read the input from command line –Reference ID\n",
        "# 2.Check for validity –it should be 12 digits and allows on number andalphabet\n",
        "# 3.Encrypt the Reference ID and print it for reference\n",
        "# Enhancements for codeYou can try these enhancements in code\n",
        "# 1.Allow some special characters in ReferenceID\n",
        "# 2.Give the option for decryption to user \n",
        "\n",
        "import base64\n",
        "print(\"Enter the reference ID:\")\n",
        "rid=input()\n",
        "len_flag=False\n",
        "dig_flag=False\n",
        "alpha_flag=False\n",
        "flag=False\n",
        "if len(rid)<=12:\n",
        "  len_flag=True\n",
        "for i in rid:\n",
        "  if i.isalpha():\n",
        "    alpha_flag=True\n",
        "    #break\n",
        "for i in rid:\n",
        "  if i.isdigit():\n",
        "    dig_flag=True\n",
        "  #break\n",
        "if len_flag and dig_flag and alpha_flag==True:\n",
        "  print(\"Unique id is valid\")\n",
        "  flag=True\n",
        "else:\n",
        "  print(\"try again\")\n",
        "if flag:\n",
        "  uniqueid_encrypt=base64.b64encode(rid.encode())\n",
        "  print(\"The encrypted RefID is :\",uniqueid_encrypt)\n",
        "print(\"Do You want to decode the RefID :(y/n)\")\n",
        "if input()=='y':\n",
        "    uniqueid_decrypt=base64.b64decode(uniqueid_encrypt)\n",
        "    print(uniqueid_decrypt)\n"
      ]
    },
    {
      "cell_type": "code",
      "source": [
        ""
      ],
      "metadata": {
        "id": "zl0XOUIy9P-w"
      },
      "execution_count": null,
      "outputs": []
    }
  ]
}