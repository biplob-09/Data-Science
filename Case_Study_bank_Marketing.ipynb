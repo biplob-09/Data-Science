{
  "nbformat": 4,
  "nbformat_minor": 0,
  "metadata": {
    "colab": {
      "name": "Case Study bank Marketing.ipynb",
      "provenance": []
    },
    "kernelspec": {
      "name": "python3",
      "display_name": "Python 3"
    },
    "language_info": {
      "name": "python"
    }
  },
  "cells": [
    {
      "cell_type": "code",
      "execution_count": null,
      "metadata": {
        "id": "8Luj90MDRQvd"
      },
      "outputs": [],
      "source": [
        "import pandas as pd\n",
        "df=pd.read_csv(r'/content/bank-data.csv')\n"
      ]
    },
    {
      "cell_type": "markdown",
      "source": [
        "Ba"
      ],
      "metadata": {
        "id": "kwyjhyBAzZKX"
      }
    },
    {
      "cell_type": "code",
      "source": [
        "class jobs:\n",
        "  def job(self,x):\n",
        "    if x=='blue-collar'or x=='services' or x=='management'or x=='admin':\n",
        "      return True\n",
        "    elif x=='entrepreneur'or x=='technician' or x=='services' or x=='self-employed'or x=='student':\n",
        "      return True\n"
      ],
      "metadata": {
        "id": "QpLq4fXrbxtf"
      },
      "execution_count": null,
      "outputs": []
    },
    {
      "cell_type": "code",
      "source": [
        "df.columns = df.columns.str.replace(' ','_')\n",
        "job_=[]\n",
        "for i in df['_________job'].unique():\n",
        "  job_.append(i)\n",
        "\n",
        "x=input(\"Enter your Profession :\")\n",
        "y=jobs()#object creation of class\n",
        "#calling class method to check for profession\n",
        "if y.job(x)!=True:\n",
        "  print(\"We are sorry your profession is not in the list :\")\n",
        "if y.job(x):\n",
        "  e=eli()\n",
        "  if e.chk(x)!=True:\n",
        "    print(\"you're not eligible \")\n",
        "  else:\n",
        "    print(\"you're eligible \")\n",
        "\n",
        "\n",
        "\n"
      ],
      "metadata": {
        "colab": {
          "base_uri": "https://localhost:8080/"
        },
        "id": "D_SxstGEgpQW",
        "outputId": "caaf8013-92b8-469e-daf3-0fe88b6c86b0"
      },
      "execution_count": null,
      "outputs": [
        {
          "output_type": "stream",
          "name": "stdout",
          "text": [
            "Enter your Profession :student\n",
            "you're not eligible \n"
          ]
        }
      ]
    },
    {
      "cell_type": "code",
      "source": [
        "#eligible function \n",
        "class eli:\n",
        "  def chk(self,x):\n",
        "    if x=='blue-collar'or x=='services' or x=='management'or x=='admin' or x=='entrepreneur'or x=='technician':\n",
        "       return True\n",
        "\n"
      ],
      "metadata": {
        "id": "F0ckXycjuamd"
      },
      "execution_count": null,
      "outputs": []
    },
    {
      "cell_type": "code",
      "source": [
        "#enhancements\n",
        "\n",
        "print(\"The maximum age for loan is :\",df['__________age'].max())\n",
        "print(\"The minimum age for loan is :\",df['__________age'].min())\n",
        "age={\"max\":df['__________age'].max(),\"min\":df['__________age'].min()}\n",
        "print(age)"
      ],
      "metadata": {
        "colab": {
          "base_uri": "https://localhost:8080/"
        },
        "id": "bZ4CzwbPwo33",
        "outputId": "aea95088-d734-43f0-f2fd-88c9e901d40c"
      },
      "execution_count": null,
      "outputs": [
        {
          "output_type": "stream",
          "name": "stdout",
          "text": [
            "The maximum age for loan is : 80\n",
            "The minimum age for loan is : 19\n",
            "{'max': 80, 'min': 19}\n"
          ]
        }
      ]
    },
    {
      "cell_type": "code",
      "source": [
        "class caseinsen_:\n",
        "  x=input(\"Enter your Profession :\")\n",
        "  #print(job_)\n",
        "  if x in job_:\n",
        "    pass\n",
        "  else:\n",
        "    x=x.lower()\n",
        "    print(x)\n",
        "    "
      ],
      "metadata": {
        "colab": {
          "base_uri": "https://localhost:8080/"
        },
        "id": "DWqMroA1yTIE",
        "outputId": "0cd4ba8f-4a9a-48f3-a2f1-9613fb837acd"
      },
      "execution_count": null,
      "outputs": [
        {
          "output_type": "stream",
          "name": "stdout",
          "text": [
            "Enter your Profession :ADmin\n",
            "admin\n"
          ]
        }
      ]
    },
    {
      "cell_type": "code",
      "source": [
        "x=input(\"Enter your Profession/ Type End to exit :\")\n",
        "obj1=jobs()#object creation of class\n",
        "#calling class method to check for profession\n",
        "while x!=\"end\":\n",
        "   if obj1.job(x)!=True:\n",
        "      print(\"Enter a valid profession\")\n",
        "   elif obj1.job(x):\n",
        "      e=eli()\n",
        "      if e.chk(x)!=True:\n",
        "        print(\"you're not eligible \")\n",
        "      else:\n",
        "        print(\"you're eligible \")\n",
        "   x=input(\"Enter your Profession/ Type End to exit :\")\n"
      ],
      "metadata": {
        "colab": {
          "base_uri": "https://localhost:8080/"
        },
        "id": "Oyb5oDegTgwh",
        "outputId": "629e8c1e-da36-4c8b-f214-632bb652d720"
      },
      "execution_count": null,
      "outputs": [
        {
          "name": "stdout",
          "output_type": "stream",
          "text": [
            "Enter your Profession/ Type End to exit :mason\n",
            "Enter a valid profession\n",
            "Enter your Profession/ Type End to exit :blue-collar\n",
            "you're eligible \n",
            "Enter your Profession/ Type End to exit :services\n",
            "you're eligible \n",
            "Enter your Profession/ Type End to exit :end\n"
          ]
        }
      ]
    }
  ]
}