{
  "cells": [
    {
      "cell_type": "code",
      "execution_count": null,
      "metadata": {
        "id": "olXu0anUiiNz",
        "colab": {
          "base_uri": "https://localhost:8080/"
        },
        "outputId": "93d1f873-1c96-41dc-d617-2d4db6cbfc80"
      },
      "outputs": [
        {
          "output_type": "stream",
          "name": "stdout",
          "text": [
            "Salary  :\n",
            " 0     140.0\n",
            "1      30.0\n",
            "2      35.1\n",
            "3      30.0\n",
            "4      80.0\n",
            "      ...  \n",
            "95     18.6\n",
            "96    152.0\n",
            "97      1.8\n",
            "98     35.0\n",
            "99      4.0\n",
            "Name: Salary, Length: 100, dtype: float64\n",
            "Gender  :\n",
            " 0     1\n",
            "1     0\n",
            "2     0\n",
            "3     1\n",
            "4     0\n",
            "     ..\n",
            "95    1\n",
            "96    1\n",
            "97    1\n",
            "98    0\n",
            "99    0\n",
            "Name: Gender, Length: 100, dtype: int64\n",
            "Age  :\n",
            " 0     47\n",
            "1     65\n",
            "2     56\n",
            "3     23\n",
            "4     53\n",
            "      ..\n",
            "95    26\n",
            "96    56\n",
            "97    28\n",
            "98    44\n",
            "99    24\n",
            "Name: Age, Length: 100, dtype: int64\n",
            "PhD  :\n",
            " 0     1\n",
            "1     1\n",
            "2     0\n",
            "3     0\n",
            "4     1\n",
            "     ..\n",
            "95    0\n",
            "96    1\n",
            "97    0\n",
            "98    0\n",
            "99    0\n",
            "Name: PhD, Length: 100, dtype: int64\n"
          ]
        }
      ],
      "source": [
        "#ex1\n",
        "\n",
        "import pandas as pd\n",
        "import numpy as np\n",
        "\n",
        "array_=[]\n",
        "file1=pd.read_csv(r\"/content/SalaryGender.csv\")\n",
        "for col in file1.columns:\n",
        "  array_.append(col)\n",
        "for i in array_:\n",
        "  i=np.array(file1[i])\n",
        "array_=np.array(array_)\n",
        "for i in array_:\n",
        "  print(i,\" :\\n\",file1[i])"
      ]
    },
    {
      "cell_type": "code",
      "execution_count": null,
      "metadata": {
        "id": "CaGVcRfFqljl"
      },
      "outputs": [],
      "source": [
        "2.\n",
        "\n",
        "df=pd.read_csv(r\"/content/SalaryGender.csv\")\n",
        "\n",
        "#men_phd=df.groupby('Gender')['PhD'].value_counts()\n",
        "men=(df.loc[(df.Gender==1)& df.PhD==1])\n",
        "print(\"The total no of male with phd is :\",men.count())\n",
        "wmn=(df.loc[(df.Gender==0)& df.PhD==1])\n",
        "print(\"\\nThe total no of women with phd is :\",wmn.count())\n",
        "\n"
      ]
    },
    {
      "cell_type": "code",
      "source": [
        "3.\n",
        "df=pd.read_csv(r\"/content/SalaryGender.csv\")\n",
        "df.head()\n",
        "df_age_phd=df.iloc[:100,2:4]\n",
        "upd_=df.loc[(df.PhD!=1)]\n",
        "for i in upd_.index:\n",
        "  df.drop(i,inplace=True)\n"
      ],
      "metadata": {
        "colab": {
          "base_uri": "https://localhost:8080/"
        },
        "id": "mf_4sjDrA5jk",
        "outputId": "60839a8e-42bb-4a77-dc2d-100618e56ad6"
      },
      "execution_count": null,
      "outputs": [
        {
          "output_type": "stream",
          "name": "stdout",
          "text": [
            "    Salary  Gender  Age  PhD\n",
            "0    140.0       1   47    1\n",
            "1     30.0       0   65    1\n",
            "4     80.0       0   53    1\n",
            "8    125.0       1   44    1\n",
            "9     51.0       1   63    1\n",
            "12   150.0       1   60    1\n",
            "17    84.0       0   47    1\n",
            "18   190.0       1   66    1\n",
            "19    74.0       1   45    1\n",
            "25    15.2       1   66    1\n",
            "26    28.6       1   36    1\n",
            "28    72.0       0   51    1\n",
            "29    81.0       1   65    1\n",
            "30   100.0       0   45    1\n",
            "31    90.0       0   52    1\n",
            "32    90.0       0   54    1\n",
            "38    63.0       1   34    1\n",
            "41    92.0       0   58    1\n",
            "42   106.0       1   77    1\n",
            "45    32.0       0   48    1\n",
            "47    55.0       1   49    1\n",
            "49    28.0       0   65    1\n",
            "54    84.0       0   49    1\n",
            "56   160.0       1   61    1\n",
            "57    65.0       0   43    1\n",
            "60   102.0       1   66    1\n",
            "63    55.0       1   56    1\n",
            "73   152.0       1   71    1\n",
            "76    30.0       1   69    1\n",
            "77   120.0       1   58    1\n",
            "79    36.0       1   32    1\n",
            "80    96.0       1   33    1\n",
            "81    38.0       0   32    1\n",
            "87    72.0       1   42    1\n",
            "89    41.0       0   51    1\n",
            "90    89.0       1   71    1\n",
            "92    52.0       1   55    1\n",
            "94    66.0       0   55    1\n",
            "96   152.0       1   56    1\n"
          ]
        }
      ]
    },
    {
      "cell_type": "code",
      "source": [
        "4.\n",
        "print(df.PhD.count())"
      ],
      "metadata": {
        "colab": {
          "base_uri": "https://localhost:8080/"
        },
        "id": "zz45x937L4kD",
        "outputId": "dfd664c0-10b6-4e8a-968e-ecdae24ecfa6"
      },
      "execution_count": null,
      "outputs": [
        {
          "output_type": "stream",
          "name": "stdout",
          "text": [
            "39\n"
          ]
        }
      ]
    },
    {
      "cell_type": "code",
      "source": [
        "5\n",
        "x=np.array([0, 5, 4, 0, 4, 4, 3, 0, 0, 5, 2, 1, 1, 9])\n",
        "elements_count = {}\n",
        "for element in x:\n",
        "  if element in elements_count:\n",
        "    elements_count[element] += 1\n",
        "  else:\n",
        "     elements_count[element] = 1\n",
        "\n",
        "for key, value in elements_count.items():\n",
        "   print(f\"{key}: {value}\")"
      ],
      "metadata": {
        "colab": {
          "base_uri": "https://localhost:8080/"
        },
        "id": "ZNfhrVxbMLvM",
        "outputId": "6c467fac-92f6-46b6-908b-939b22b3459f"
      },
      "execution_count": null,
      "outputs": [
        {
          "output_type": "stream",
          "name": "stdout",
          "text": [
            "0: 4\n",
            "5: 2\n",
            "4: 3\n",
            "3: 1\n",
            "2: 1\n",
            "1: 2\n",
            "9: 1\n"
          ]
        }
      ]
    },
    {
      "cell_type": "code",
      "source": [
        "6\n",
        "arr=np.array([[0, 1, 2],[ 3, 4, 5],[ 6, 7, 8],[ 9,10, 11]])\n",
        "print(arr[arr>5])"
      ],
      "metadata": {
        "colab": {
          "base_uri": "https://localhost:8080/"
        },
        "id": "IYBU70SEagQz",
        "outputId": "97f9af9f-5eae-4ae7-fe2a-44ae8380024b"
      },
      "execution_count": null,
      "outputs": [
        {
          "output_type": "stream",
          "name": "stdout",
          "text": [
            "[ 6  7  8  9 10 11]\n"
          ]
        }
      ]
    },
    {
      "cell_type": "code",
      "source": [
        "7\n",
        "arr=np.array([ np.nan,   1.,   2.,  np.NaN,   3.,   4.,   5.])\n",
        "d = arr[np.logical_not(np.isnan(arr))]\n",
        "print(\"Original Array is :\",arr)\n",
        "print(\"New Array withount NAN is:\",d)\n"
      ],
      "metadata": {
        "colab": {
          "base_uri": "https://localhost:8080/"
        },
        "id": "BEFO6Ahebvnb",
        "outputId": "9be1027b-e85f-45e0-840d-93be0bbf5d74"
      },
      "execution_count": null,
      "outputs": [
        {
          "output_type": "stream",
          "name": "stdout",
          "text": [
            "Original Array is : [nan  1.  2. nan  3.  4.  5.]\n",
            "New Array withount NAN is: [1. 2. 3. 4. 5.]\n"
          ]
        }
      ]
    },
    {
      "cell_type": "code",
      "source": [
        "8\n",
        "x = np.random.random((10,10))\n",
        "\n",
        "print(\"The minimum random value is :\",x.min(),\"\\nThe maximum random value is :\",x.max())"
      ],
      "metadata": {
        "colab": {
          "base_uri": "https://localhost:8080/"
        },
        "id": "6GZhhAQ6c-6X",
        "outputId": "7d87519b-aea7-457e-897e-6e7ed2584ebc"
      },
      "execution_count": null,
      "outputs": [
        {
          "output_type": "stream",
          "name": "stdout",
          "text": [
            "The minimum random value is : 0.0052751689003720514 \n",
            "The maximum random value is : 0.9920131965423205\n"
          ]
        }
      ]
    },
    {
      "cell_type": "code",
      "source": [
        "x=np.random.random(30)\n",
        "print(\"The mean of random vector is\",x.mean())"
      ],
      "metadata": {
        "colab": {
          "base_uri": "https://localhost:8080/"
        },
        "id": "zRlcDjlweS06",
        "outputId": "cebb0456-7f3d-4e4b-92e4-596788606083"
      },
      "execution_count": null,
      "outputs": [
        {
          "output_type": "stream",
          "name": "stdout",
          "text": [
            "The mean of random vector is 0.4605974177714778\n"
          ]
        }
      ]
    },
    {
      "cell_type": "code",
      "source": [
        "10\n",
        "arr=np.arange(0,10)\n",
        "print(\"The original array is :\",arr)\n",
        "arr[3:9] = np.multiply(arr[3:9],-1)\n",
        "print(\"the negated array is :\",arr)"
      ],
      "metadata": {
        "colab": {
          "base_uri": "https://localhost:8080/"
        },
        "id": "tm__-aLBe1JG",
        "outputId": "a76e62e0-cc0f-4c0c-c8b9-9b16be732ea5"
      },
      "execution_count": null,
      "outputs": [
        {
          "output_type": "stream",
          "name": "stdout",
          "text": [
            "The original array is : [0 1 2 3 4 5 6 7 8 9]\n",
            "the negated array is : [ 0  1  2 -3 -4 -5 -6 -7 -8  9]\n"
          ]
        }
      ]
    },
    {
      "cell_type": "code",
      "source": [
        "11\n",
        "arr = np.random.randint(40,size=(3,3))\n",
        "print(\"Array before sorting is :\\n\",arr)\n",
        "\n",
        "arr[:,0].sort()\n",
        "arr[:,1].sort()\n",
        "arr[:,2].sort()\n",
        "\n",
        "print(\"Array after Column sort is: \\n\",arr)\n"
      ],
      "metadata": {
        "colab": {
          "base_uri": "https://localhost:8080/"
        },
        "id": "EC3oVvmKf5kW",
        "outputId": "704ff0b9-250b-4b6a-c036-eac1a3e45dfd"
      },
      "execution_count": null,
      "outputs": [
        {
          "output_type": "stream",
          "name": "stdout",
          "text": [
            "Array before sorting is :\n",
            " [[ 8 19 32]\n",
            " [15 31 39]\n",
            " [10 22 38]]\n",
            "Array after Column sort is \n",
            ": [[ 8 19 32]\n",
            " [10 22 38]\n",
            " [15 31 39]]\n"
          ]
        }
      ]
    },
    {
      "cell_type": "code",
      "source": [
        "12\n",
        "arr = np.arange(72)\n",
        "arr=arr.reshape(4,3,2,3)\n",
        "print(\"Before the sum the array is :\\n\",arr)\n",
        "print(\"After sumation of last 2 axis :\")\n",
        "print(arr[:,:,:,1:3].sum())\n"
      ],
      "metadata": {
        "colab": {
          "base_uri": "https://localhost:8080/"
        },
        "id": "KR4zOBfwZKjd",
        "outputId": "46ba44b8-0c6d-41c1-8031-1328112de0a0"
      },
      "execution_count": null,
      "outputs": [
        {
          "output_type": "stream",
          "name": "stdout",
          "text": [
            "Before the sum the array is :\n",
            " [[[[ 0  1  2]\n",
            "   [ 3  4  5]]\n",
            "\n",
            "  [[ 6  7  8]\n",
            "   [ 9 10 11]]\n",
            "\n",
            "  [[12 13 14]\n",
            "   [15 16 17]]]\n",
            "\n",
            "\n",
            " [[[18 19 20]\n",
            "   [21 22 23]]\n",
            "\n",
            "  [[24 25 26]\n",
            "   [27 28 29]]\n",
            "\n",
            "  [[30 31 32]\n",
            "   [33 34 35]]]\n",
            "\n",
            "\n",
            " [[[36 37 38]\n",
            "   [39 40 41]]\n",
            "\n",
            "  [[42 43 44]\n",
            "   [45 46 47]]\n",
            "\n",
            "  [[48 49 50]\n",
            "   [51 52 53]]]\n",
            "\n",
            "\n",
            " [[[54 55 56]\n",
            "   [57 58 59]]\n",
            "\n",
            "  [[60 61 62]\n",
            "   [63 64 65]]\n",
            "\n",
            "  [[66 67 68]\n",
            "   [69 70 71]]]]\n",
            "After sumation of last 2 axis :\n",
            "1728\n"
          ]
        }
      ]
    },
    {
      "cell_type": "code",
      "source": [
        "13\n",
        "arr=np.random.random(12)\n",
        "arr=arr.reshape(3,4)\n",
        "print(\"The Random array is:\\n\",arr)\n",
        "arr[[0,1]]=arr[[1,0]]\n",
        "print(\"\\nThe Array after swap of 1 and 2nd row is:\\n\")\n",
        "print(arr)"
      ],
      "metadata": {
        "colab": {
          "base_uri": "https://localhost:8080/"
        },
        "id": "pIoD62xUhykT",
        "outputId": "a38f972f-908a-42b5-e562-00f5e87b8ac5"
      },
      "execution_count": null,
      "outputs": [
        {
          "output_type": "stream",
          "name": "stdout",
          "text": [
            "The Random array is:\n",
            " [[0.9121705  0.05319    0.10357504 0.40497435]\n",
            " [0.40700105 0.61023401 0.9958351  0.76443192]\n",
            " [0.8106904  0.75163313 0.36481466 0.05771617]]\n",
            "\n",
            "The Array after swap of 1 and 2nd row is:\n",
            "\n",
            "[[0.40700105 0.61023401 0.9958351  0.76443192]\n",
            " [0.9121705  0.05319    0.10357504 0.40497435]\n",
            " [0.8106904  0.75163313 0.36481466 0.05771617]]\n"
          ]
        }
      ]
    },
    {
      "cell_type": "code",
      "source": [
        "14\n",
        "arr=np.random.random(15)\n",
        "arr=arr.reshape(5,3)\n",
        "print(\"The Random array is :\",arr)\n",
        "rank = np.linalg.matrix_rank(arr)\n",
        "print(\"\\nRank of the given Matrix is : \",rank)"
      ],
      "metadata": {
        "id": "THRQQZLfsmIp",
        "colab": {
          "base_uri": "https://localhost:8080/"
        },
        "outputId": "b8f368f3-6133-4c79-9625-b747efce33f1"
      },
      "execution_count": null,
      "outputs": [
        {
          "output_type": "stream",
          "name": "stdout",
          "text": [
            "The Random array is : [[0.90482402 0.55944996 0.47057058]\n",
            " [0.83790019 0.80994968 0.23488442]\n",
            " [0.38247274 0.9484459  0.91928511]\n",
            " [0.34301051 0.1774183  0.05265259]\n",
            " [0.41067238 0.76137422 0.56020352]]\n",
            "\n",
            "Rank of the given Matrix is :  3\n"
          ]
        }
      ]
    },
    {
      "cell_type": "code",
      "source": [
        "15\n",
        "#reading the dataframe.\n",
        "\n",
        "import pandas as pd\n",
        "import matplotlib.pyplot as plt\n",
        "from scipy.stats import norm\n",
        "import seaborn as sns\n",
        "import matplotlib.pyplot as plt\n",
        "from scipy.stats import norm\n",
        "import seaborn as sns\n",
        "\n",
        "df1=pd.read_csv(\"/content/middle_tn_schools.csv\")\n",
        "print(df1.head(10))\n",
        "df1.describe()"
      ],
      "metadata": {
        "id": "b69zsyODl-rG",
        "colab": {
          "base_uri": "https://localhost:8080/",
          "height": 1000
        },
        "outputId": "6e9077ab-4f85-4131-ca9c-14654db897e7"
      },
      "execution_count": null,
      "outputs": [
        {
          "output_type": "stream",
          "name": "stdout",
          "text": [
            "                             name  school_rating    size  reduced_lunch  \\\n",
            "0     Allendale Elementary School            5.0   851.0           10.0   \n",
            "1             Anderson Elementary            2.0   412.0           71.0   \n",
            "2                Avoca Elementary            4.0   482.0           43.0   \n",
            "3                   Bailey Middle            0.0   394.0           91.0   \n",
            "4             Barfield Elementary            4.0   948.0           26.0   \n",
            "5  Barkers Mill Elementary School            4.0   893.0           48.0   \n",
            "6            Barksdale Elementary            4.0   580.0           58.0   \n",
            "7                Beech Elementary            5.0   612.0           16.0   \n",
            "8        Beech Senior High School            4.0  1274.0           21.0   \n",
            "9                 Bellevue Middle            3.0   680.0           50.0   \n",
            "\n",
            "   state_percentile_16  state_percentile_15  stu_teach_ratio    school_type  \\\n",
            "0                 90.2                 95.8             15.7         Public   \n",
            "1                 32.8                 37.3             12.8         Public   \n",
            "2                 78.4                 83.6             16.6         Public   \n",
            "3                  1.6                  1.0             13.1  Public Magnet   \n",
            "4                 85.3                 89.2             14.8         Public   \n",
            "5                 78.1                 76.4             13.9         Public   \n",
            "6                 83.2                 74.6             13.8         Public   \n",
            "7                 95.2                 93.4             15.6         Public   \n",
            "8                 82.5                 77.9             14.9         Public   \n",
            "9                 53.0                 55.5             16.5  Public Magnet   \n",
            "\n",
            "   avg_score_15  avg_score_16  full_time_teachers  percent_black  \\\n",
            "0          89.4          85.2                54.0            2.9   \n",
            "1          43.0          38.3                32.0            3.9   \n",
            "2          75.7          73.0                29.0            1.0   \n",
            "3           2.1           4.4                30.0           80.7   \n",
            "4          81.3          79.6                64.0           11.8   \n",
            "5          69.4          72.3                64.0           28.6   \n",
            "6          68.0          76.1                42.0           27.4   \n",
            "7          85.9          90.3                39.0            4.2   \n",
            "8          67.2          69.3                85.0           13.8   \n",
            "9          55.8          53.3                41.0           24.3   \n",
            "\n",
            "   percent_white  percent_asian  percent_hispanic  \n",
            "0           85.5            1.6               5.6  \n",
            "1           86.7            1.0               4.9  \n",
            "2           91.5            1.2               4.4  \n",
            "3           11.7            2.3               4.3  \n",
            "4           71.2            7.1               6.0  \n",
            "5           39.9            2.2              17.8  \n",
            "6           59.5            0.5               6.6  \n",
            "7           90.5            0.3               3.1  \n",
            "8           79.7            1.4               3.7  \n",
            "9           61.8            5.6               6.6  \n"
          ]
        },
        {
          "output_type": "execute_result",
          "data": {
            "text/plain": [
              "       school_rating         size  reduced_lunch  state_percentile_16  \\\n",
              "count     347.000000   347.000000     347.000000           347.000000   \n",
              "mean        2.968300   699.472622      50.279539            58.801729   \n",
              "std         1.690377   400.598636      25.480236            32.540747   \n",
              "min         0.000000    53.000000       2.000000             0.200000   \n",
              "25%         2.000000   420.500000      30.000000            30.950000   \n",
              "50%         3.000000   595.000000      51.000000            66.400000   \n",
              "75%         4.000000   851.000000      71.500000            88.000000   \n",
              "max         5.000000  2314.000000      98.000000            99.800000   \n",
              "\n",
              "       state_percentile_15  stu_teach_ratio  avg_score_15  avg_score_16  \\\n",
              "count           341.000000       347.000000    341.000000    347.000000   \n",
              "mean             58.249267        15.461671     57.004692     57.049856   \n",
              "std              32.702630         5.725170     26.696450     27.968974   \n",
              "min               0.600000         4.700000      1.500000      0.100000   \n",
              "25%              27.100000        13.700000     37.600000     37.000000   \n",
              "50%              65.800000        15.000000     61.800000     60.700000   \n",
              "75%              88.600000        16.700000     79.600000     80.250000   \n",
              "max              99.800000       111.000000     99.000000     98.900000   \n",
              "\n",
              "       full_time_teachers  percent_black  percent_white  percent_asian  \\\n",
              "count          347.000000     347.000000     347.000000     347.000000   \n",
              "mean            44.939481      21.197983      61.673487       2.642651   \n",
              "std             22.053386      23.562538      27.274859       3.109629   \n",
              "min              2.000000       0.000000       1.100000       0.000000   \n",
              "25%             30.000000       3.600000      40.600000       0.750000   \n",
              "50%             40.000000      13.500000      68.700000       1.600000   \n",
              "75%             54.000000      28.350000      85.950000       3.100000   \n",
              "max            140.000000      97.400000      99.700000      21.100000   \n",
              "\n",
              "       percent_hispanic  \n",
              "count        347.000000  \n",
              "mean          11.164553  \n",
              "std           12.030608  \n",
              "min            0.000000  \n",
              "25%            3.800000  \n",
              "50%            6.400000  \n",
              "75%           13.800000  \n",
              "max           65.200000  "
            ],
            "text/html": [
              "\n",
              "  <div id=\"df-5ad168d7-f912-484d-b1d7-d5e20062abab\">\n",
              "    <div class=\"colab-df-container\">\n",
              "      <div>\n",
              "<style scoped>\n",
              "    .dataframe tbody tr th:only-of-type {\n",
              "        vertical-align: middle;\n",
              "    }\n",
              "\n",
              "    .dataframe tbody tr th {\n",
              "        vertical-align: top;\n",
              "    }\n",
              "\n",
              "    .dataframe thead th {\n",
              "        text-align: right;\n",
              "    }\n",
              "</style>\n",
              "<table border=\"1\" class=\"dataframe\">\n",
              "  <thead>\n",
              "    <tr style=\"text-align: right;\">\n",
              "      <th></th>\n",
              "      <th>school_rating</th>\n",
              "      <th>size</th>\n",
              "      <th>reduced_lunch</th>\n",
              "      <th>state_percentile_16</th>\n",
              "      <th>state_percentile_15</th>\n",
              "      <th>stu_teach_ratio</th>\n",
              "      <th>avg_score_15</th>\n",
              "      <th>avg_score_16</th>\n",
              "      <th>full_time_teachers</th>\n",
              "      <th>percent_black</th>\n",
              "      <th>percent_white</th>\n",
              "      <th>percent_asian</th>\n",
              "      <th>percent_hispanic</th>\n",
              "    </tr>\n",
              "  </thead>\n",
              "  <tbody>\n",
              "    <tr>\n",
              "      <th>count</th>\n",
              "      <td>347.000000</td>\n",
              "      <td>347.000000</td>\n",
              "      <td>347.000000</td>\n",
              "      <td>347.000000</td>\n",
              "      <td>341.000000</td>\n",
              "      <td>347.000000</td>\n",
              "      <td>341.000000</td>\n",
              "      <td>347.000000</td>\n",
              "      <td>347.000000</td>\n",
              "      <td>347.000000</td>\n",
              "      <td>347.000000</td>\n",
              "      <td>347.000000</td>\n",
              "      <td>347.000000</td>\n",
              "    </tr>\n",
              "    <tr>\n",
              "      <th>mean</th>\n",
              "      <td>2.968300</td>\n",
              "      <td>699.472622</td>\n",
              "      <td>50.279539</td>\n",
              "      <td>58.801729</td>\n",
              "      <td>58.249267</td>\n",
              "      <td>15.461671</td>\n",
              "      <td>57.004692</td>\n",
              "      <td>57.049856</td>\n",
              "      <td>44.939481</td>\n",
              "      <td>21.197983</td>\n",
              "      <td>61.673487</td>\n",
              "      <td>2.642651</td>\n",
              "      <td>11.164553</td>\n",
              "    </tr>\n",
              "    <tr>\n",
              "      <th>std</th>\n",
              "      <td>1.690377</td>\n",
              "      <td>400.598636</td>\n",
              "      <td>25.480236</td>\n",
              "      <td>32.540747</td>\n",
              "      <td>32.702630</td>\n",
              "      <td>5.725170</td>\n",
              "      <td>26.696450</td>\n",
              "      <td>27.968974</td>\n",
              "      <td>22.053386</td>\n",
              "      <td>23.562538</td>\n",
              "      <td>27.274859</td>\n",
              "      <td>3.109629</td>\n",
              "      <td>12.030608</td>\n",
              "    </tr>\n",
              "    <tr>\n",
              "      <th>min</th>\n",
              "      <td>0.000000</td>\n",
              "      <td>53.000000</td>\n",
              "      <td>2.000000</td>\n",
              "      <td>0.200000</td>\n",
              "      <td>0.600000</td>\n",
              "      <td>4.700000</td>\n",
              "      <td>1.500000</td>\n",
              "      <td>0.100000</td>\n",
              "      <td>2.000000</td>\n",
              "      <td>0.000000</td>\n",
              "      <td>1.100000</td>\n",
              "      <td>0.000000</td>\n",
              "      <td>0.000000</td>\n",
              "    </tr>\n",
              "    <tr>\n",
              "      <th>25%</th>\n",
              "      <td>2.000000</td>\n",
              "      <td>420.500000</td>\n",
              "      <td>30.000000</td>\n",
              "      <td>30.950000</td>\n",
              "      <td>27.100000</td>\n",
              "      <td>13.700000</td>\n",
              "      <td>37.600000</td>\n",
              "      <td>37.000000</td>\n",
              "      <td>30.000000</td>\n",
              "      <td>3.600000</td>\n",
              "      <td>40.600000</td>\n",
              "      <td>0.750000</td>\n",
              "      <td>3.800000</td>\n",
              "    </tr>\n",
              "    <tr>\n",
              "      <th>50%</th>\n",
              "      <td>3.000000</td>\n",
              "      <td>595.000000</td>\n",
              "      <td>51.000000</td>\n",
              "      <td>66.400000</td>\n",
              "      <td>65.800000</td>\n",
              "      <td>15.000000</td>\n",
              "      <td>61.800000</td>\n",
              "      <td>60.700000</td>\n",
              "      <td>40.000000</td>\n",
              "      <td>13.500000</td>\n",
              "      <td>68.700000</td>\n",
              "      <td>1.600000</td>\n",
              "      <td>6.400000</td>\n",
              "    </tr>\n",
              "    <tr>\n",
              "      <th>75%</th>\n",
              "      <td>4.000000</td>\n",
              "      <td>851.000000</td>\n",
              "      <td>71.500000</td>\n",
              "      <td>88.000000</td>\n",
              "      <td>88.600000</td>\n",
              "      <td>16.700000</td>\n",
              "      <td>79.600000</td>\n",
              "      <td>80.250000</td>\n",
              "      <td>54.000000</td>\n",
              "      <td>28.350000</td>\n",
              "      <td>85.950000</td>\n",
              "      <td>3.100000</td>\n",
              "      <td>13.800000</td>\n",
              "    </tr>\n",
              "    <tr>\n",
              "      <th>max</th>\n",
              "      <td>5.000000</td>\n",
              "      <td>2314.000000</td>\n",
              "      <td>98.000000</td>\n",
              "      <td>99.800000</td>\n",
              "      <td>99.800000</td>\n",
              "      <td>111.000000</td>\n",
              "      <td>99.000000</td>\n",
              "      <td>98.900000</td>\n",
              "      <td>140.000000</td>\n",
              "      <td>97.400000</td>\n",
              "      <td>99.700000</td>\n",
              "      <td>21.100000</td>\n",
              "      <td>65.200000</td>\n",
              "    </tr>\n",
              "  </tbody>\n",
              "</table>\n",
              "</div>\n",
              "      <button class=\"colab-df-convert\" onclick=\"convertToInteractive('df-5ad168d7-f912-484d-b1d7-d5e20062abab')\"\n",
              "              title=\"Convert this dataframe to an interactive table.\"\n",
              "              style=\"display:none;\">\n",
              "        \n",
              "  <svg xmlns=\"http://www.w3.org/2000/svg\" height=\"24px\"viewBox=\"0 0 24 24\"\n",
              "       width=\"24px\">\n",
              "    <path d=\"M0 0h24v24H0V0z\" fill=\"none\"/>\n",
              "    <path d=\"M18.56 5.44l.94 2.06.94-2.06 2.06-.94-2.06-.94-.94-2.06-.94 2.06-2.06.94zm-11 1L8.5 8.5l.94-2.06 2.06-.94-2.06-.94L8.5 2.5l-.94 2.06-2.06.94zm10 10l.94 2.06.94-2.06 2.06-.94-2.06-.94-.94-2.06-.94 2.06-2.06.94z\"/><path d=\"M17.41 7.96l-1.37-1.37c-.4-.4-.92-.59-1.43-.59-.52 0-1.04.2-1.43.59L10.3 9.45l-7.72 7.72c-.78.78-.78 2.05 0 2.83L4 21.41c.39.39.9.59 1.41.59.51 0 1.02-.2 1.41-.59l7.78-7.78 2.81-2.81c.8-.78.8-2.07 0-2.86zM5.41 20L4 18.59l7.72-7.72 1.47 1.35L5.41 20z\"/>\n",
              "  </svg>\n",
              "      </button>\n",
              "      \n",
              "  <style>\n",
              "    .colab-df-container {\n",
              "      display:flex;\n",
              "      flex-wrap:wrap;\n",
              "      gap: 12px;\n",
              "    }\n",
              "\n",
              "    .colab-df-convert {\n",
              "      background-color: #E8F0FE;\n",
              "      border: none;\n",
              "      border-radius: 50%;\n",
              "      cursor: pointer;\n",
              "      display: none;\n",
              "      fill: #1967D2;\n",
              "      height: 32px;\n",
              "      padding: 0 0 0 0;\n",
              "      width: 32px;\n",
              "    }\n",
              "\n",
              "    .colab-df-convert:hover {\n",
              "      background-color: #E2EBFA;\n",
              "      box-shadow: 0px 1px 2px rgba(60, 64, 67, 0.3), 0px 1px 3px 1px rgba(60, 64, 67, 0.15);\n",
              "      fill: #174EA6;\n",
              "    }\n",
              "\n",
              "    [theme=dark] .colab-df-convert {\n",
              "      background-color: #3B4455;\n",
              "      fill: #D2E3FC;\n",
              "    }\n",
              "\n",
              "    [theme=dark] .colab-df-convert:hover {\n",
              "      background-color: #434B5C;\n",
              "      box-shadow: 0px 1px 3px 1px rgba(0, 0, 0, 0.15);\n",
              "      filter: drop-shadow(0px 1px 2px rgba(0, 0, 0, 0.3));\n",
              "      fill: #FFFFFF;\n",
              "    }\n",
              "  </style>\n",
              "\n",
              "      <script>\n",
              "        const buttonEl =\n",
              "          document.querySelector('#df-5ad168d7-f912-484d-b1d7-d5e20062abab button.colab-df-convert');\n",
              "        buttonEl.style.display =\n",
              "          google.colab.kernel.accessAllowed ? 'block' : 'none';\n",
              "\n",
              "        async function convertToInteractive(key) {\n",
              "          const element = document.querySelector('#df-5ad168d7-f912-484d-b1d7-d5e20062abab');\n",
              "          const dataTable =\n",
              "            await google.colab.kernel.invokeFunction('convertToInteractive',\n",
              "                                                     [key], {});\n",
              "          if (!dataTable) return;\n",
              "\n",
              "          const docLinkHtml = 'Like what you see? Visit the ' +\n",
              "            '<a target=\"_blank\" href=https://colab.research.google.com/notebooks/data_table.ipynb>data table notebook</a>'\n",
              "            + ' to learn more about interactive tables.';\n",
              "          element.innerHTML = '';\n",
              "          dataTable['output_type'] = 'display_data';\n",
              "          await google.colab.output.renderOutput(dataTable, element);\n",
              "          const docLink = document.createElement('div');\n",
              "          docLink.innerHTML = docLinkHtml;\n",
              "          element.appendChild(docLink);\n",
              "        }\n",
              "      </script>\n",
              "    </div>\n",
              "  </div>\n",
              "  "
            ]
          },
          "metadata": {},
          "execution_count": 16
        }
      ]
    },
    {
      "cell_type": "code",
      "source": [
        "#grouping of data\n",
        "grouped_data = df1.groupby(\"school_rating\").describe()\n",
        "print(grouped_data.head())"
      ],
      "metadata": {
        "colab": {
          "base_uri": "https://localhost:8080/"
        },
        "id": "ZnFHqp7oT3i3",
        "outputId": "f7a3f46d-1939-4f45-9ccc-2f745577ca10"
      },
      "execution_count": null,
      "outputs": [
        {
          "output_type": "stream",
          "name": "stdout",
          "text": [
            "               size                                                        \\\n",
            "              count        mean         std    min     25%    50%     75%   \n",
            "school_rating                                                               \n",
            "0.0            43.0  501.325581  217.273880   71.0  367.00  426.0  563.00   \n",
            "1.0            40.0  691.250000  476.695395  118.0  409.50  507.5  759.75   \n",
            "2.0            44.0  628.500000  349.591755   53.0  368.25  558.0  752.75   \n",
            "3.0            56.0  762.482143  399.760564  249.0  491.00  652.5  880.50   \n",
            "4.0            86.0  742.732558  403.389242  141.0  452.50  641.5  934.75   \n",
            "\n",
            "                      reduced_lunch             ... percent_asian        \\\n",
            "                  max         count       mean  ...           75%   max   \n",
            "school_rating                                   ...                       \n",
            "0.0            1002.0          43.0  83.581395  ...         1.900  17.0   \n",
            "1.0            2314.0          40.0  74.950000  ...         2.900  19.5   \n",
            "2.0            1771.0          44.0  64.272727  ...         1.975  11.0   \n",
            "3.0            1983.0          56.0  50.285714  ...         2.625  11.8   \n",
            "4.0            2025.0          86.0  41.000000  ...         2.550   8.1   \n",
            "\n",
            "              percent_hispanic                                           \\\n",
            "                         count       mean        std  min    25%    50%   \n",
            "school_rating                                                             \n",
            "0.0                       43.0  17.348837  19.811785  0.7  2.700   7.70   \n",
            "1.0                       40.0  20.655000  15.259481  0.0  9.100  17.90   \n",
            "2.0                       44.0  12.552273   9.995499  0.9  4.625   9.95   \n",
            "3.0                       56.0  10.232143   9.373698  0.0  4.625   9.05   \n",
            "4.0                       86.0   7.918605   7.250177  1.1  4.025   5.35   \n",
            "\n",
            "                             \n",
            "                  75%   max  \n",
            "school_rating                \n",
            "0.0            21.750  64.8  \n",
            "1.0            30.300  61.2  \n",
            "2.0            18.525  36.0  \n",
            "3.0            12.925  65.2  \n",
            "4.0             8.875  40.4  \n",
            "\n",
            "[5 rows x 96 columns]\n"
          ]
        }
      ]
    },
    {
      "cell_type": "code",
      "source": [
        "#correlation analysis\n",
        "corrmat=df1.corr()\n",
        "print(corrmat)\n"
      ],
      "metadata": {
        "colab": {
          "base_uri": "https://localhost:8080/",
          "height": 1000
        },
        "id": "i0ZcrL12VFec",
        "outputId": "1779aea7-0f69-4b3a-d21f-2e451b47ea44"
      },
      "execution_count": null,
      "outputs": [
        {
          "output_type": "stream",
          "name": "stdout",
          "text": [
            "                     school_rating      size  reduced_lunch  \\\n",
            "school_rating             1.000000  0.181428      -0.815757   \n",
            "size                      0.181428  1.000000      -0.277807   \n",
            "reduced_lunch            -0.815757 -0.277807       1.000000   \n",
            "state_percentile_16       0.985545  0.171060      -0.815720   \n",
            "state_percentile_15       0.937817  0.162887      -0.825085   \n",
            "stu_teach_ratio           0.203459  0.143173      -0.197428   \n",
            "avg_score_15              0.941336  0.161788      -0.839536   \n",
            "avg_score_16              0.982390  0.143289      -0.816479   \n",
            "full_time_teachers        0.122910  0.966880      -0.214848   \n",
            "percent_black            -0.593869 -0.148405       0.562921   \n",
            "percent_white             0.639014  0.102904      -0.668327   \n",
            "percent_asian             0.161469  0.193491      -0.226385   \n",
            "percent_hispanic         -0.376288 -0.017660       0.490446   \n",
            "\n",
            "                     state_percentile_16  state_percentile_15  \\\n",
            "school_rating                   0.985545             0.937817   \n",
            "size                            0.171060             0.162887   \n",
            "reduced_lunch                  -0.815720            -0.825085   \n",
            "state_percentile_16             1.000000             0.949694   \n",
            "state_percentile_15             0.949694             1.000000   \n",
            "stu_teach_ratio                 0.186893             0.141066   \n",
            "avg_score_15                    0.949197             0.991847   \n",
            "avg_score_16                    0.994085             0.946101   \n",
            "full_time_teachers              0.117061             0.109569   \n",
            "percent_black                  -0.573810            -0.564929   \n",
            "percent_white                   0.625374             0.612183   \n",
            "percent_asian                   0.151021             0.181822   \n",
            "percent_hispanic               -0.383017            -0.371708   \n",
            "\n",
            "                     stu_teach_ratio  avg_score_15  avg_score_16  \\\n",
            "school_rating               0.203459      0.941336      0.982390   \n",
            "size                        0.143173      0.161788      0.143289   \n",
            "reduced_lunch              -0.197428     -0.839536     -0.816479   \n",
            "state_percentile_16         0.186893      0.949197      0.994085   \n",
            "state_percentile_15         0.141066      0.991847      0.946101   \n",
            "stu_teach_ratio             1.000000      0.147963      0.175880   \n",
            "avg_score_15                0.147963      1.000000      0.953714   \n",
            "avg_score_16                0.175880      0.953714      1.000000   \n",
            "full_time_teachers          0.019594      0.105186      0.089338   \n",
            "percent_black              -0.122307     -0.595062     -0.592876   \n",
            "percent_white               0.134595      0.637500      0.635201   \n",
            "percent_asian               0.089211      0.192656      0.172739   \n",
            "percent_hispanic           -0.089307     -0.374300     -0.373618   \n",
            "\n",
            "                     full_time_teachers  percent_black  percent_white  \\\n",
            "school_rating                  0.122910      -0.593869       0.639014   \n",
            "size                           0.966880      -0.148405       0.102904   \n",
            "reduced_lunch                 -0.214848       0.562921      -0.668327   \n",
            "state_percentile_16            0.117061      -0.573810       0.625374   \n",
            "state_percentile_15            0.109569      -0.564929       0.612183   \n",
            "stu_teach_ratio                0.019594      -0.122307       0.134595   \n",
            "avg_score_15                   0.105186      -0.595062       0.637500   \n",
            "avg_score_16                   0.089338      -0.592876       0.635201   \n",
            "full_time_teachers             1.000000      -0.113515       0.055672   \n",
            "percent_black                 -0.113515       1.000000      -0.874202   \n",
            "percent_white                  0.055672      -0.874202       1.000000   \n",
            "percent_asian                  0.146726      -0.112274      -0.092287   \n",
            "percent_hispanic               0.026130       0.086627      -0.537571   \n",
            "\n",
            "                     percent_asian  percent_hispanic  \n",
            "school_rating             0.161469         -0.376288  \n",
            "size                      0.193491         -0.017660  \n",
            "reduced_lunch            -0.226385          0.490446  \n",
            "state_percentile_16       0.151021         -0.383017  \n",
            "state_percentile_15       0.181822         -0.371708  \n",
            "stu_teach_ratio           0.089211         -0.089307  \n",
            "avg_score_15              0.192656         -0.374300  \n",
            "avg_score_16              0.172739         -0.373618  \n",
            "full_time_teachers        0.146726          0.026130  \n",
            "percent_black            -0.112274          0.086627  \n",
            "percent_white            -0.092287         -0.537571  \n",
            "percent_asian             1.000000          0.187277  \n",
            "percent_hispanic          0.187277          1.000000  \n"
          ]
        },
        {
          "output_type": "execute_result",
          "data": {
            "text/plain": [
              "<matplotlib.axes._subplots.AxesSubplot at 0x7fc22111cbd0>"
            ]
          },
          "metadata": {},
          "execution_count": 17
        },
        {
          "output_type": "display_data",
          "data": {
            "text/plain": [
              "<Figure size 648x576 with 2 Axes>"
            ],
            "image/png": "[encoded data removed]"
          },
          "metadata": {
            "needs_background": "light"
          }
        }
      ]
    },
    {
      "cell_type": "code",
      "source": [
        "#scatter plotplt.scatter(df1['school_rating'],df1['reduced_lunch'])\n",
        "plt.grid()\n",
        "plt.xlabel(\"Rating\")\n",
        "plt.ylabel(\"Reduced Lunch\")\n",
        "plt.title(\"School Rating vs Reduced lunch\")\n",
        "plt.show()\n"
      ],
      "metadata": {
        "colab": {
          "base_uri": "https://localhost:8080/",
          "height": 295
        },
        "id": "vexB3FSZW0SD",
        "outputId": "d7af7d20-8ad8-4740-c7b2-ca178cb12f65"
      },
      "execution_count": null,
      "outputs": [
        {
          "output_type": "display_data",
          "data": {
            "text/plain": [
              "<Figure size 432x288 with 1 Axes>"
            ],
            "image/png": "[encoded data removed]"
          },
          "metadata": {
            "needs_background": "light"
          }
        }
      ]
    },
    {
      "cell_type": "code",
      "source": [
        "#correlation matrix\n",
        "f, ax = plt.subplots(figsize=(9, 8))\n",
        "sns.heatmap(corrmat, ax=ax, cmap=\"YlGnBu\", linewidths=0.1)"
      ],
      "metadata": {
        "id": "yPsoQN2sYIrC"
      },
      "execution_count": null,
      "outputs": []
    }
  ],
  "metadata": {
    "colab": {
      "name": "Numpy and Pandas CSI.ipynb",
      "provenance": [],
      "collapsed_sections": []
    },
    "kernelspec": {
      "display_name": "Python 3",
      "name": "python3"
    },
    "language_info": {
      "name": "python"
    }
  },
  "nbformat": 4,
  "nbformat_minor": 0
}