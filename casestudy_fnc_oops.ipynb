{
  "nbformat": 4,
  "nbformat_minor": 0,
  "metadata": {
    "colab": {
      "name": "casestudy_fnc oops.ipynb",
      "provenance": []
    },
    "kernelspec": {
      "name": "python3",
      "display_name": "Python 3"
    },
    "language_info": {
      "name": "python"
    }
  },
  "cells": [
    {
      "cell_type": "code",
      "execution_count": 6,
      "metadata": {
        "colab": {
          "base_uri": "https://localhost:8080/"
        },
        "id": "G9TgDlX8WvLZ",
        "outputId": "495f6d05-fa06-4a46-f244-7242e7559b54"
      },
      "outputs": [
        {
          "output_type": "stream",
          "name": "stdout",
          "text": [
            "Enter the direction of Robot in the plane :\n",
            "up 5\n",
            "down 3\n",
            "left 2\n",
            "right 5\n",
            "\n",
            "0\n"
          ]
        }
      ],
      "source": [
        "import math \n",
        "print(\"Enter the direction of Robot in the plane :\")\n",
        "pos=[0,0]\n",
        "while True:\n",
        "  dir=input()\n",
        "  if not dir:\n",
        "    break\n",
        "  movement=dir.split(\" \")\n",
        "  direction = movement[0]\n",
        "  steps=movement[1]\n",
        "  if direction==\"UP\":\n",
        "    pos[0]+=steps\n",
        "  elif direction==\"DOWN\":\n",
        "    pos[0]-=steps\n",
        "  elif direction==\"LEFT\":\n",
        "    pos[1]-=steps\n",
        "  elif direction==\"RIGHT\":\n",
        "    pos[1]+=steps\n",
        "  else:\n",
        "      pass\n",
        "print(int(round(math.sqrt(pos[1]**2+pos[0]**2))))\n"
      ]
    },
    {
      "cell_type": "code",
      "source": [
        "#Binary Search,\n",
        "#Data of XYZ company is stored in sorted list. Write a program for searching specific data from that list.Hint: Use if/elif to deal with conditions.\n",
        "import math\n",
        "def bin_search(li, element):\n",
        "    bottom = 0\n",
        "    top = len(li)-1\n",
        "    index = -1\n",
        "    while top>=bottom and index==-1:\n",
        "        mid = int(math.floor((top+bottom)/2.0))\n",
        "        if li[mid]==element:\n",
        "            index = mid\n",
        "        elif li[mid]>element:\n",
        "            top = mid-1\n",
        "        else:\n",
        "            bottom = mid+1\n",
        "\n",
        "    return(index)\n",
        "\n",
        "li=[1,11,23,34,45,56]\n",
        "print(bin_search(li,11))\n",
        "print(bin_search(li,45))\n"
      ],
      "metadata": {
        "colab": {
          "base_uri": "https://localhost:8080/"
        },
        "id": "fvy1KZSsfYFD",
        "outputId": "665770a8-5d30-4954-f523-d2d96d03e348"
      },
      "execution_count": 8,
      "outputs": [
        {
          "output_type": "stream",
          "name": "stdout",
          "text": [
            "1\n",
            "4\n"
          ]
        }
      ]
    },
    {
      "cell_type": "code",
      "source": [
        "import time\n",
        "\n",
        "print(\"Is it dark outside?\\n==================\")\n",
        "\n",
        "#month_number : sunset_hour\n",
        "dark = {\n",
        "    1: 4,\n",
        "    2: 5,\n",
        "    3: 6,\n",
        "    4: 7,\n",
        "    5: 7,\n",
        "    6: 9,\n",
        "    7: 9,\n",
        "    8: 7,\n",
        "    9: 6,\n",
        "    10: 5,\n",
        "    11: 5,\n",
        "    12: 4\n",
        "    }\n",
        "\n",
        "#month_number : sunrise_hour\n",
        "light = {\n",
        "    1: 8,\n",
        "    2: 7,\n",
        "    3: 6,\n",
        "    4: 5,\n",
        "    5: 4,\n",
        "    6: 4,\n",
        "    7: 4,\n",
        "    8: 5,\n",
        "    9: 6,\n",
        "    10: 6,\n",
        "    11: 7,\n",
        "    12: 8\n",
        "    }\n",
        "#get the structure containing the current time\n",
        "time_now = time.localtime()\n",
        "\n",
        "#use the 'light' and 'dark' dictionaries\n",
        "#it's dark if the hour is later than or equal to the sunset time\n",
        "#or earlier than the sunrise time.\n",
        "if time_now.tm_hour >=dark[time_now.tm_mon] or time_now.tm_hour < light[time_now.tm_mon]:\n",
        "    print(\"Yes\")\n",
        "else:\n",
        "    print(\"No\")\n"
      ],
      "metadata": {
        "colab": {
          "base_uri": "https://localhost:8080/"
        },
        "id": "cDsweTqzfzDh",
        "outputId": "da02f51d-e563-4adf-a908-c62e6c1cbd19"
      },
      "execution_count": 10,
      "outputs": [
        {
          "output_type": "stream",
          "name": "stdout",
          "text": [
            "Is it dark outside?\n",
            "==================\n",
            "Yes\n"
          ]
        }
      ]
    },
    {
      "cell_type": "code",
      "source": [
        "4.#Write a program to find distance between two locations when their latitude and longitudes are given.\n",
        "\n",
        "from math import sin, cos, sqrt, atan2, radians\n",
        "\n",
        "# approximate radius of earth in km\n",
        "R = 6373.0\n",
        "\n",
        "lat1 = radians(52.2296756)\n",
        "lon1 = radians(21.0122287)\n",
        "lat2 = radians(52.406374)\n",
        "lon2 = radians(16.9251681)\n",
        "\n",
        "dlon = lon2 - lon1\n",
        "dlat = lat2 - lat1\n",
        "\n",
        "a = sin(dlat / 2)**2 + cos(lat1) * cos(lat2) * sin(dlon / 2)**2\n",
        "c = 2 * atan2(sqrt(a), sqrt(1 - a))\n",
        "\n",
        "distance = R * c\n",
        "\n",
        "print(\"Result:\", distance)\n",
        "print(\"Should be:\", 278.546, \"km\")\n"
      ],
      "metadata": {
        "id": "t8vm6n7HfahL"
      },
      "execution_count": null,
      "outputs": []
    },
    {
      "cell_type": "code",
      "source": [
        "#Design a software for bank system. There should be options like cash withdraw, cash credit and change password. According to user input, the software should provide required output.\n",
        "Total=0\n",
        "current=50000  # current balance\n",
        "\n",
        "def withdraw():\n",
        "    with_amount=input(\"Enter withdraw amount\")\n",
        "    Total= current-int(with_amount)\n",
        "    print(\"Your account balance is: \",Total)\n",
        "    return()\n",
        "\n",
        "def credit():\n",
        "    credit_amount=input(\"Enter amount to be credited\")\n",
        "    Total=current+int(credit_amount)\n",
        "    print(\"Your account balance is: \", Total)\n",
        "    return()\n",
        "\n",
        "\n",
        "def change_pass():\n",
        "    old=input(\"Enter old password\")\n",
        "    new=input(\"Enter new password\")\n",
        "    print(\"You password is changed: \",new)\n",
        "\n",
        "\n",
        "acco_no=input(\"Enter your account number\")\n",
        "choice=input(\"Enter your choice:\\n 1: Cash withdraw \\n 2: Cash Credit \\n 3: Change password\")\n",
        "\n",
        "if(choice=='1'):\n",
        "    withdraw()\n",
        "\n",
        "elif(choice=='2'):\n",
        "    credit()\n",
        "\n",
        "else:\n",
        "    change_pass()\n"
      ],
      "metadata": {
        "colab": {
          "base_uri": "https://localhost:8080/"
        },
        "id": "XGk4SM3UiTaV",
        "outputId": "344adfd5-0f1b-439d-8847-2286c309de7f"
      },
      "execution_count": 14,
      "outputs": [
        {
          "output_type": "stream",
          "name": "stdout",
          "text": [
            "Enter your account number12345\n",
            "Enter your choice:\n",
            " 1: Cash withdraw \n",
            " 2: Cash Credit \n",
            " 3: Change password2\n",
            "Enter amount to be credited1000\n",
            "Your account balance is:  51000\n"
          ]
        }
      ]
    },
    {
      "cell_type": "code",
      "source": [
        "#Write a program which will find all such numbers which are divisible by 7 but are not a multiple of 5, between 2000 and 3200 (both included). \n",
        "#The numbers obtained should be printed in a comma-separated sequence on a single line.\n",
        "l=[]\n",
        "for i in range(2000, 3201):\n",
        "    if (i%7==0) and (i%5!=0):\n",
        "        l.append(str(i))\n",
        "\n",
        "print(','.join(l))\n"
      ],
      "metadata": {
        "colab": {
          "base_uri": "https://localhost:8080/"
        },
        "id": "8CJQaXNgi_zD",
        "outputId": "796511a3-fd78-47a7-f77f-6d1dc0d01531"
      },
      "execution_count": 15,
      "outputs": [
        {
          "output_type": "stream",
          "name": "stdout",
          "text": [
            "2002,2009,2016,2023,2037,2044,2051,2058,2072,2079,2086,2093,2107,2114,2121,2128,2142,2149,2156,2163,2177,2184,2191,2198,2212,2219,2226,2233,2247,2254,2261,2268,2282,2289,2296,2303,2317,2324,2331,2338,2352,2359,2366,2373,2387,2394,2401,2408,2422,2429,2436,2443,2457,2464,2471,2478,2492,2499,2506,2513,2527,2534,2541,2548,2562,2569,2576,2583,2597,2604,2611,2618,2632,2639,2646,2653,2667,2674,2681,2688,2702,2709,2716,2723,2737,2744,2751,2758,2772,2779,2786,2793,2807,2814,2821,2828,2842,2849,2856,2863,2877,2884,2891,2898,2912,2919,2926,2933,2947,2954,2961,2968,2982,2989,2996,3003,3017,3024,3031,3038,3052,3059,3066,3073,3087,3094,3101,3108,3122,3129,3136,3143,3157,3164,3171,3178,3192,3199\n"
          ]
        }
      ]
    },
    {
      "cell_type": "code",
      "source": [
        "#Write a program which can compute the factorial of a given numbers. Use recursion to find it.\n",
        "def fact(x):\n",
        "    if x == 0:\n",
        "        return 1\n",
        "    return x * fact(x - 1)\n",
        "x=int(input(\"Enter number whos factorial you want to find\"))\n",
        "print(fact(x))\n"
      ],
      "metadata": {
        "colab": {
          "base_uri": "https://localhost:8080/"
        },
        "id": "lkr9BcIJjSmQ",
        "outputId": "ef24ce29-ea32-4a42-a027-1485d3cf44ba"
      },
      "execution_count": 16,
      "outputs": [
        {
          "output_type": "stream",
          "name": "stdout",
          "text": [
            "Enter number whos factorial you want to find5\n",
            "120\n"
          ]
        }
      ]
    },
    {
      "cell_type": "code",
      "source": [
        "#Write a program that calculates and prints the value according to the given formula: \n",
        "#   Q = Square root of [(2 * C * D)/H]\n",
        "#Following are the fixed values of C and H: C is 50. H is 30.\n",
        "#D  is  the  variable  whose  values  should  be  input  to  your  program  in  a  comma-separated sequence. \n",
        "\n",
        "import math\n",
        "c=50\n",
        "h=30\n",
        "value = []\n",
        "items=[x for x in (input('Enter number')).split(',')]\n",
        "for d in items:\n",
        "    value.append(str(int(round(math.sqrt(2*c*float(d)/h)))))\n",
        "print(','.join(value))\n",
        "\n"
      ],
      "metadata": {
        "colab": {
          "base_uri": "https://localhost:8080/"
        },
        "id": "YaPRQHjfjbZt",
        "outputId": "004b9d69-084d-4c13-dd0c-0caa8ad77564"
      },
      "execution_count": 17,
      "outputs": [
        {
          "output_type": "stream",
          "name": "stdout",
          "text": [
            "Enter number100,150,180\n",
            "18,22,24\n"
          ]
        }
      ]
    },
    {
      "cell_type": "code",
      "source": [
        "#Write a program which takes 2 digits, X,Y as input and generates a 2-dimensional array. \n",
        "#The element value in the i-th row and j-th column of the array should be i*j.Note: i=0,1.., X-1; j=0,1,¡-Y-1\n",
        "\n",
        "input_str = input(\"Enter dimensions of array\")\n",
        "dimensions=[int(x) for x in input_str.split(',')]\n",
        "rowNum=dimensions[0]\n",
        "colNum=dimensions[1]\n",
        "multilist = [[0 for col in range(colNum)] for row in range(rowNum)]\n",
        "for row in range(rowNum):\n",
        "    for col in range(colNum):\n",
        "        multilist[row][col]= row*col\n",
        "print(multilist)\n"
      ],
      "metadata": {
        "colab": {
          "base_uri": "https://localhost:8080/"
        },
        "id": "Hd19FEj6nj1G",
        "outputId": "9002b225-5cde-4823-f968-f9ae6f737dc7"
      },
      "execution_count": 18,
      "outputs": [
        {
          "output_type": "stream",
          "name": "stdout",
          "text": [
            "Enter dimensions of array4,5\n",
            "[[0, 0, 0, 0, 0], [0, 1, 2, 3, 4], [0, 2, 4, 6, 8], [0, 3, 6, 9, 12]]\n"
          ]
        }
      ]
    },
    {
      "cell_type": "code",
      "source": [
        "#\tWrite a program that accepts a comma separated sequence of words as input and prints the words in a comma-separated sequence after sorting them alphabetically. \n",
        "#Suppose the following input is supplied to the program:\n",
        "# without,hello,bag,world\n",
        "# Then, the output should be:\n",
        "# bag,hello,without,world\n",
        "\n",
        "items=[x for x in input('Enter strings').split(',')]\n",
        "items.sort()\n",
        "print(','.join(items))\n",
        "\n",
        "\n"
      ],
      "metadata": {
        "colab": {
          "base_uri": "https://localhost:8080/"
        },
        "id": "N9yDOOuroU-q",
        "outputId": "9e836e64-a553-45fe-c8cd-582e9ed464f2"
      },
      "execution_count": 19,
      "outputs": [
        {
          "output_type": "stream",
          "name": "stdout",
          "text": [
            "Enter stringshello,hi,bye,cya,apple\n",
            "apple,bye,cya,hello,hi\n"
          ]
        }
      ]
    },
    {
      "cell_type": "code",
      "source": [
        "#Write a program that accepts sequence of lines as input and prints the lines after making all characters in the sentence capitalized. \n",
        "# Suppose the following input is supplied to the program:\n",
        "#        Hello world\n",
        "#        Practice makes perfect\n",
        "#        Then, the output should be:\n",
        "#        HELLO WORLD\n",
        "#        PRACTICE MAKES PERFECT\n",
        "\n",
        "lines = []\n",
        "while True:\n",
        "    s = input(\"Enter string\")\n",
        "    if s:\n",
        "        lines.append(s.upper())\n",
        "    else:\n",
        "        break;\n",
        "for sentence in lines:\n",
        "    print(sentence)\n"
      ],
      "metadata": {
        "id": "bgmyOt4Go12b"
      },
      "execution_count": null,
      "outputs": []
    },
    {
      "cell_type": "code",
      "source": [
        "# Write a program that accepts a sequence of whitespace separated words as input and prints the words after removing all duplicate words and sorting them alphanumerically. \n",
        "# Suppose the following input is supplied to the program:\n",
        "#        hello world and practice makes perfect and hello world again\n",
        "#       Then, the output should be:\n",
        "#       again and hello makes perfect practice world\n",
        "\n",
        "s = input(\"Enter strings separated by whitespaces\")\n",
        "words = [word for word in s.split(\" \")]\n",
        "print(\" \".join(sorted(list(set(words)))))\n"
      ],
      "metadata": {
        "colab": {
          "base_uri": "https://localhost:8080/"
        },
        "id": "0ZUM1AGLpAzK",
        "outputId": "1e5f36c6-d96a-4bc7-8163-7b7968d34c16"
      },
      "execution_count": 20,
      "outputs": [
        {
          "output_type": "stream",
          "name": "stdout",
          "text": [
            "Enter strings separated by whitespaceshello world and practice makes perfect and hello world again\n",
            "again and hello makes perfect practice world\n"
          ]
        }
      ]
    },
    {
      "cell_type": "code",
      "source": [
        "# Write a program which accepts a sequence of comma separated 4 digit binary numbers as its input and then check whether they are divisible by 5 or not. The numbers that are divisible by 5 are to be printed in a comma separated sequence.\n",
        "# Example:\n",
        "# 0100,0011,1010,1001\n",
        "# Then the output should be:\n",
        "# 1010\n",
        "value = []\n",
        "items=[x for x in input(\"Ener 4 binary numbers\").split(',')]\n",
        "for p in items:\n",
        "    intper = int(p, 2)\n",
        "    if not intper%5:\n",
        "        value.append(p)\n",
        "print(','.join(value))\n",
        "\n"
      ],
      "metadata": {
        "colab": {
          "base_uri": "https://localhost:8080/"
        },
        "id": "eDmJuNOppVGZ",
        "outputId": "0ffbc19f-ce1d-4958-90de-8240aef1899d"
      },
      "execution_count": 21,
      "outputs": [
        {
          "output_type": "stream",
          "name": "stdout",
          "text": [
            "Ener 4 binary numbers0100,0011,1010,1001\n",
            "1010\n"
          ]
        }
      ]
    },
    {
      "cell_type": "code",
      "source": [
        "\t# Write a program that accepts a sentence and calculate the number of upper case letters and lower case letters.\n",
        "  #    Suppose the following input is supplied to the program:\n",
        "  #    Hello world!\n",
        "  #    Then, the output should be:\n",
        "  #    UPPER CASE 1\n",
        "  #    LOWER CASE 9\n",
        "s = input('Enter string')\n",
        "d={\"UPPER CASE\":0, \"LOWER CASE\":0}\n",
        "for c in s:\n",
        "    if c.isupper():\n",
        "        d[\"UPPER CASE\"]+=1\n",
        "    elif c.islower():\n",
        "        d[\"LOWER CASE\"]+=1\n",
        "    else:\n",
        "        pass\n",
        "print(\"UPPER CASE\", d[\"UPPER CASE\"])\n",
        "print(\"LOWER CASE\", d[\"LOWER CASE\"])\n",
        "\n"
      ],
      "metadata": {
        "colab": {
          "base_uri": "https://localhost:8080/"
        },
        "id": "cVvrCXRPp1LP",
        "outputId": "8382316b-38a7-4812-a808-76da348a6035"
      },
      "execution_count": 22,
      "outputs": [
        {
          "output_type": "stream",
          "name": "stdout",
          "text": [
            "Enter stringHello World!\n",
            "UPPER CASE 2\n",
            "LOWER CASE 8\n"
          ]
        }
      ]
    },
    {
      "cell_type": "code",
      "source": [
        "# Give example of fsum and sum function of math library\n",
        "\n",
        "import math\n",
        "a = range(10)   # a range object (0,10)\n",
        "b = [10, 20, 30, 40, 50]    # list of integers\n",
        "c = [10, 20, 30.30, 40, 50.0]   # list of integers & floats\n",
        "d = [10.20, 30.40]  # list of floats\n",
        "e = (10, 20, 30, 40.50) # tuple\n",
        "\n",
        "print(\"fsum(a): \", math.fsum(a))\n",
        "print(\"fsum(b): \", math.fsum(b))\n",
        "print(\"fsum(c): \", math.fsum(c))\n",
        "print(\"fsum(d): \", math.fsum(d))\n",
        "print(\"fsum(e): \", math.fsum(e))\n",
        "print(\"----------------------\")\n",
        "print(\"Sum(a):  \",sum(a))\n",
        "print(\"Sum(b): \", sum(b))\n",
        "print(\"sum(c): \", sum(c))\n",
        "print(\"sum(d): \", sum(d))\n",
        "print(\"sum(e): \", sum(e))"
      ],
      "metadata": {
        "id": "tf8pdooSqoSZ"
      },
      "execution_count": null,
      "outputs": []
    }
  ]
}